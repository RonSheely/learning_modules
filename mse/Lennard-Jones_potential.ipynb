{
 "cells": [
  {
   "cell_type": "markdown",
   "id": "17061148",
   "metadata": {},
   "source": [
    "# Introduction to the Lennard-Jones potential\n",
    "\n",
    "*Authors: Enze Chen (University of California, Berkeley)*\n",
    "\n",
    "In computational materials science, we are often concerned with simulating the properties and behaviors of materials.\n",
    "In order to do this effectively, we need, among many other things, a way to evaluate the energy of our computational system.\n",
    "That is, given a configuration of atoms (the elements and where they're placed), what is the energy of the system due to the combination of attractive/repulsive forces that they exert on each other?\n",
    "This is the starting point for virtually all other calculations (forces, ground state, elastic properties, etc.).\n",
    "And the mathematical construct that provides this evaluation of the system's energy is known as the **interatomic potential** (IAP)."
   ]
  },
  {
   "cell_type": "markdown",
   "id": "1f6931bd",
   "metadata": {},
   "source": [
    "## How to use this notebook\n",
    "\n",
    "If you are viewing this notebook on [Google Colaboratory](https://colab.research.google.com/github/enze-chen/learning_modules/blob/master/mse/lennard-jones_potential.ipynb), then everything is already set up for you (hooray). \n",
    "If you want to save a copy of this notebook for yourself, go to \"File > Save a copy in Drive\" and you will find it in your Google Drive account under \"My Drive > Colab Notebooks.\" \n",
    "If you want to run the notebook locally, you can download it and make sure all the Python modules in the [`requirements.txt`](https://github.com/enze-chen/learning_modules/blob/master/requirements.txt) file are installed before running it.\n",
    "\n",
    "To run this notebook, run all the cells (e.g. `Runtime > Run all` in the menu) and then adjust the sliders at the bottom. \n",
    "I **strongly recommend** just running the code and experimenting with the inputs _before_ reading the code in great detail."
   ]
  },
  {
   "cell_type": "markdown",
   "id": "05a4c536",
   "metadata": {},
   "source": [
    "## Introduction\n",
    "\n",
    "Depending on the desired level of accuracy and sophistication, there are many different forms for this IAP. \n",
    "In class, we saw an example of an IAP of the form:\n",
    "\n",
    "$$ E = E_{\\text{attract}} + E_{\\text{repel}} = -\\frac{A}{r} + \\frac{B}{r^n} $$\n",
    "\n",
    "which is fine.\n",
    "There's another *extremely popular and famous* IAP that is used to model [van der Waals interactions](https://en.wikipedia.org/wiki/Van_der_Waals_force), and this IAP is called the **Lennard-Jones (LJ) potential**, named after [Sir John Edward Lennard-Jones](https://en.wikipedia.org/wiki/John_Lennard-Jones).\n",
    "If you read [his original paper](https://royalsocietypublishing.org/doi/abs/10.1098/rspa.1924.0082) from 1924, you'll notice that his last name there is only \"Jones;\" that's because he got married in 1925 and only then added his wife's last name \"Lennard\" to his own.\n",
    "In any case, the equation for the most common formulation of the Lennard-Jones IAP is:\n",
    "\n",
    "$$ V(r) = 4 \\varepsilon \\left[ \\left( \\frac{\\sigma}{r} \\right)^{12} - \\left( \\frac{\\sigma}{r} \\right)^6 \\right] \\tag{1} $$\n",
    "\n",
    "where $r$ is the distance between two particles, $\\varepsilon$ is the depth of the potential well, and $\\sigma$ is an interaction distance.\n",
    "Equation 1 is also called the **12-6 potential** due to the exponents.\n",
    "This model has two free parameters, $\\varepsilon$ (epsilon) and $\\sigma$ (sigma), which can be fit to data depending on the system we wish to model.\n",
    "Different values for $\\varepsilon$ and $\\sigma$ for different systems will lead to different behavior in the simulations.\n",
    "So let's see what happens when we vary these parameters!"
   ]
  },
  {
   "cell_type": "code",
   "execution_count": 93,
   "id": "9a5c56bc",
   "metadata": {},
   "outputs": [],
   "source": [
    "import numpy as np\n",
    "import matplotlib.pyplot as plt\n",
    "%matplotlib inline\n",
    "from ipywidgets import interact, FloatSlider, Layout\n",
    "\n",
    "def plot_lj(e, s):\n",
    "    r = np.linspace(0.5, 10, 1000)\n",
    "    \n",
    "    # compute repulsive and attractive terms in 12-6 LJ potential\n",
    "    E_rep = 4 * e * (s / r) ** 12\n",
    "    E_att = - 4 * e * (s / r) ** 6\n",
    "    V = E_rep + E_att\n",
    "    \n",
    "    # compute forces\n",
    "    F = -np.gradient(V, r)\n",
    "    \n",
    "    # Plotting and finer styling\n",
    "    plt.rcParams.update({'figure.figsize':(8,6), 'font.size':22, 'axes.linewidth':2, 'lines.linewidth':5,\n",
    "                         'mathtext.fontset':'cm'})\n",
    "    fig, ax = plt.subplots()\n",
    "    ax.plot(r, 0*np.ones(r.shape), 'k--', lw=3, alpha=0.4, zorder=-5)\n",
    "    ax.plot(r, V, 'k', label='12-6 LJ', zorder=10)\n",
    "    ax.plot(r, E_rep, ls='dashed', lw=4, alpha=0.6, label='repulsive')\n",
    "    ax.plot(r, E_att, ls='dashed', lw=4, alpha=0.6, label='attractive')\n",
    "    ax.plot(r, F, alpha=0.8, label='force')\n",
    "    ax.set_xlim(1.5, 4)\n",
    "    ax.set_ylim(-3.99, 4.99)\n",
    "    ax.set_xlabel('$r$ (a.u.)')\n",
    "    ax.set_ylabel('Energy (a.u.)')\n",
    "    ax.legend(loc='upper right')\n",
    "    plt.show()"
   ]
  },
  {
   "cell_type": "code",
   "execution_count": 94,
   "id": "ed753bc3",
   "metadata": {},
   "outputs": [
    {
     "data": {
      "application/vnd.jupyter.widget-view+json": {
       "model_id": "6735819671f54215bab704b02c45eedd",
       "version_major": 2,
       "version_minor": 0
      },
      "text/plain": [
       "interactive(children=(FloatSlider(value=2.0, continuous_update=False, description='$\\\\varepsilon$', layout=Lay…"
      ]
     },
     "metadata": {},
     "output_type": "display_data"
    }
   ],
   "source": [
    "e_widget = FloatSlider(value=2, min=1, max=3, step=0.02, \n",
    "                       description=r'$\\varepsilon$', readout_format='.2f', \n",
    "                       style={'description_width':'20px'}, continuous_update=False,\n",
    "                       layout=Layout(width='300px', height='30px'))\n",
    "s_widget = FloatSlider(value=2.1, min=2, max=2.2, step=0.01, \n",
    "                       description=r'$\\sigma$', readout_format='.2f', \n",
    "                       style={'description_width':'20px'}, continuous_update=False,\n",
    "                       layout=Layout(width='300px', height='30px'))\n",
    "interact(plot_lj, e=e_widget, s=s_widget);"
   ]
  },
  {
   "cell_type": "markdown",
   "id": "46f3955e",
   "metadata": {},
   "source": [
    "## Food for thought\n",
    "\n",
    "- What happens when you adjust $\\varepsilon$? What about $\\sigma$?\n",
    "- Where does the energy equal 0? What about the force?\n",
    "- Which interaction dominates at short distances? At long distances?\n",
    "- How did we compute the forces?"
   ]
  },
  {
   "cell_type": "markdown",
   "id": "a054fcbf",
   "metadata": {},
   "source": [
    "## OK, but how do we _use_ it?\n",
    "\n",
    "Yeah, good question.\n",
    "Now that we have an understanding of all of the parameters in the LJ potential, we can just throw the LJ potential into, for example, a [molecular dynamics (MD)](https://en.wikipedia.org/wiki/Molecular_dynamics) simulation, which is more or less the numerical implementation of Newton's laws of motion at the atomic level.\n",
    "The LJ potential is what tells the system how to interact (e.g., two atoms are too close—move away!).\n",
    "After setting up the simulation cell and running it, we can stitch the results into a little movie like [the following example](https://www.youtube.com/watch?v=bN2VV2gOLAw):"
   ]
  },
  {
   "cell_type": "code",
   "execution_count": 95,
   "id": "6052ed39",
   "metadata": {},
   "outputs": [
    {
     "data": {
      "image/jpeg": "[encoded data removed]",
      "text/html": [
       "\n",
       "        <iframe\n",
       "            width=\"400\"\n",
       "            height=\"300\"\n",
       "            src=\"https://www.youtube.com/embed/bN2VV2gOLAw\"\n",
       "            frameborder=\"0\"\n",
       "            allowfullscreen\n",
       "        ></iframe>\n",
       "        "
      ],
      "text/plain": [
       "<IPython.lib.display.YouTubeVideo at 0x2b68b10f370>"
      ]
     },
     "execution_count": 95,
     "metadata": {},
     "output_type": "execute_result"
    }
   ],
   "source": [
    "from IPython.display import YouTubeVideo\n",
    "YouTubeVideo('bN2VV2gOLAw')"
   ]
  }
 ],
 "metadata": {
  "kernelspec": {
   "display_name": "Python 3",
   "language": "python",
   "name": "python3"
  },
  "language_info": {
   "codemirror_mode": {
    "name": "ipython",
    "version": 3
   },
   "file_extension": ".py",
   "mimetype": "text/x-python",
   "name": "python",
   "nbconvert_exporter": "python",
   "pygments_lexer": "ipython3",
   "version": "3.8.5"
  },
  "toc": {
   "base_numbering": 1,
   "nav_menu": {},
   "number_sections": false,
   "sideBar": true,
   "skip_h1_title": true,
   "title_cell": "Table of Contents",
   "title_sidebar": "Contents",
   "toc_cell": false,
   "toc_position": {},
   "toc_section_display": true,
   "toc_window_display": false
  }
 },
 "nbformat": 4,
 "nbformat_minor": 5
}
