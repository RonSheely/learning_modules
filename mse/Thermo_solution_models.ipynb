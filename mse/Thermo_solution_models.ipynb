{
 "cells": [
  {
   "cell_type": "markdown",
   "metadata": {},
   "source": [
    "# The thermodynamics of ideal and regular solution models \n",
    "\n",
    "*Authors: Enze Chen (University of California, Berkeley)*\n",
    "\n",
    "This is an interactive notebook for playing around with the temperature and interaction parameter $\\beta$ and observing the effect on the resulting free energy curves of a binary ideal or regular solution. Following that, there is a small section for readers to complete their own code to generate the phase diagram for an ideal or regular solution model. There are [similar demos](http://www.learncheme.com/simulations/thermodynamics/thermo-2/effect-of-temperature-on-partial-miscibility) available online, but I couldn't find one that was interactive in this way and written in Python. Thermodynamics is fairly math-heavy and a tough subject to master, but I believe having quality visualizations can have a large, positive impact on your learning. I hope you will find this notebook functional, readable, and educational.\n",
    "\n",
    "## Usage\n",
    "\n",
    "### Part 1\n",
    "In the first half of this notebook, everything is completed for you and you just have to run it. To execute each cell of the notebook and automatically advance to the next cell, press `Shift+Enter`. Or you can click `Run All` in the menu at the top. When done successfully, you'll see a widget slider pop up that you can adjust and observe the changes.\n",
    "\n",
    "### Part 2\n",
    "In the second half, there is one section for you to complete the code in order to construct the resulting phase diagram. This is delineated with the dashed lines as follows, and you should **only change what's inside**. You don't have to edit the text or code anywhere else.\n",
    "```python\n",
    "# ---------------------- #\n",
    "# YOUR CODE HERE\n",
    "\n",
    "# ---------------------- #\n",
    "```\n",
    "If you edit the code in a cell, just press `Shift+Enter` to run it again. You have to execute **all** the code cells in this notebook from top to bottom (so don't skip around). A number `[#]` will appear to the left of the code cell once it's done executing. When done successfully, you'll be able to generate a lens-shaped phase diagram at the very end.\n",
    "\n",
    "## Acknowledgements\n",
    "I thank [Prof. Gerbrand Ceder](https://mse.berkeley.edu/people_new/ceder/) for teaching MATSCI 201A: Thermodynamics and Phase Transformations in Solids and my advisor [Prof. Mark Asta](https://mse.berkeley.edu/people_new/asta/) for conceiving this idea, providing preliminary scripts and data, and encouraging me in my education-related pursuits. Interactivity is enabled with the [`ipywidgets`](https://ipywidgets.readthedocs.io/en/stable/) library. An interactive version of this notebook can be found online at [Google Colaboratory](https://colab.research.google.com/github/enze-chen/learning_modules/blob/master/mse/Thermo_solution_models.ipynb)."
   ]
  },
  {
   "cell_type": "markdown",
   "metadata": {},
   "source": [
    "## Important equations\n",
    "\n",
    "We know from thermodynamics that in general,\n",
    "\n",
    "$$ \\Delta G = \\Delta H - T \\Delta S$$\n",
    "\n",
    "where $\\Delta H$ is the enthalpy, $T$ is the temperature, and $\\Delta S$ is the entropy. Hopefully this is ingrained in your head by now.\n",
    "\n",
    "In the regular solution model, we have an interaction term in the enthalpy given by the $\\beta$ parameter, where\n",
    "\n",
    "$$ \\Delta H_{\\text{mix}} = \\beta x(1-x) $$\n",
    "\n",
    "and $x$ is the atomic fraction. For ideal solutions, we can simply set $\\beta = 0$. The entropy of mixing is given by\n",
    "\n",
    "$$ \\Delta S_{\\text{mix}} = -R \\left[ x \\ln x + (1-x) \\ln(1-x) \\right] $$\n",
    "\n",
    "Furthermore, we'll assume for this demo that the free energies of the pure solid phases are $0$ (reference) and that the molar free energy differences between the liquid and solid phases at these pure endpoints can be approximated by\n",
    "\n",
    "$$ \\Delta G_m^{0}(T) = \\Delta G^{s \\rightarrow l}(T) = \\Delta S_m^0 [T_m - T] $$\n",
    "\n",
    "\n",
    "## Assumptions\n",
    "* I assumed that the two curves would be mostly convex for my optimization routine.\n",
    "* I assumed that there will only be one common tangent (i.e. no \"boomerang\" phase diagrams).\n",
    "* I assumed that self-common tangents are mostly horizontal (i.e. curve is not \"tilted\").\n",
    "\n",
    "## Known issues\n",
    "* It doesn't have great safeguards against index-out-of-bounds errors, which will happen if you put absurd quantities for the $\\beta$ parameter. Please be gentle. ❤"
   ]
  },
  {
   "cell_type": "markdown",
   "metadata": {},
   "source": [
    "## Python library imports\n",
    "\n",
    "These are all the required Python libraries."
   ]
  },
  {
   "cell_type": "code",
   "execution_count": 1,
   "metadata": {},
   "outputs": [],
   "source": [
    "# General libraries\n",
    "import warnings\n",
    "warnings.filterwarnings('ignore')  # please do as I say, not as I do\n",
    "\n",
    "# Scientific computing libraries\n",
    "import numpy as np\n",
    "from scipy.misc import derivative\n",
    "import matplotlib.pyplot as plt\n",
    "%matplotlib inline\n",
    "\n",
    "# Interactivity libraries\n",
    "from ipywidgets import interact, interact_manual, fixed, \\\n",
    "                       IntSlider, FloatSlider, FloatLogSlider, \\\n",
    "                       Button, Layout"
   ]
  },
  {
   "cell_type": "markdown",
   "metadata": {},
   "source": [
    "## Analytical functions\n",
    "\n",
    "Here are the theoretical curves for the Gibbs free energy ($\\Delta G$) of the solid and liquid phases, with data taken from a certain material $A$ and a certain material $B$. We define $x$ to be the atomic fraction of $B$, which substitutes on the $A$ sites. $\\beta$ is the interaction parameter for the regular solution model, and has a default value of $0$ (ideal solution)."
   ]
  },
  {
   "cell_type": "code",
   "execution_count": 2,
   "metadata": {},
   "outputs": [],
   "source": [
    "def curve_s(x, T, beta_s=0, R=8.314):\n",
    "    \"\"\"This function plots the Gibbs free energy curve for the solid solution.\n",
    "    \n",
    "    Args:\n",
    "        x (numpy.darray): An array of atomic fractions of B.\n",
    "        T (float): The temperature in Kelvin.\n",
    "        beta_s (float): The interaction parameter in J/mol.\n",
    "        R (float): The ideal gas constant in J/(mol*K).\n",
    "        \n",
    "    Returns:\n",
    "        G_s (numpy.darray): An array of Gibbs free energy values in kJ/mol.    \n",
    "    \"\"\"\n",
    "    S_mix = -R * (np.multiply(x, np.log(x)) + np.multiply(1 - x, np.log(1 - x)))\n",
    "    H_mix = beta_s * np.multiply(x, 1 - x)\n",
    "    G_s = -T * S_mix + H_mix\n",
    "    return G_s / 1000\n",
    "\n",
    "\n",
    "def curve_l(x, T, beta_l=0, R=8.314):\n",
    "    \"\"\"This function plots the Gibbs free energy curve for the liquid solution.\n",
    "    \n",
    "    Args:\n",
    "        x (numpy.darray): An array of atomic fractions of B.\n",
    "        T (float): The temperature in Kelvin.\n",
    "        beta_l (float): The interaction parameter in J/mol.\n",
    "        R (float): The ideal gas constant in J/(mol*K).\n",
    "        \n",
    "    Returns:\n",
    "        G_l (numpy.darray): An array of Gibbs free energy values in kJ/mol.    \n",
    "    \"\"\"\n",
    "    S_A, S_B = (52.7, 59.9)\n",
    "    T_A, T_B = (1890 + 273, 1205 + 273)\n",
    "    G_A = S_A * (T_A - T)\n",
    "    G_B = S_B * (T_B - T)\n",
    "    S_mix = -R * (np.multiply(x, np.log(x)) + np.multiply(1 - x, np.log(1 - x)))\n",
    "    H_mix = beta_l * np.multiply(x, 1 - x)\n",
    "    G_l = x * G_B + (1 - x) * G_A - T * S_mix + H_mix\n",
    "    return G_l / 1000"
   ]
  },
  {
   "cell_type": "markdown",
   "metadata": {},
   "source": [
    "## Constructing the common tangent\n",
    "\n",
    "There are many ways one could go about doing this. I've seen people in the past do a brute force enumeration (\\*shudder\\*). John Dagdelen suggests a Legendre transform (nifty!). I got really excited about trying gradient descent optimization (yeet). Eventually, after much Googling and consideration, I went with something simple and relatively fast, inspired from [this StackOverflow answer](https://stackoverflow.com/a/10271179). The procedure is as follows:\n",
    "\n",
    "1. Using `scipy`, compute a derivative of curve 1, $\\Delta G^s$, and store this for later use.\n",
    "1. Pick the minimum of curve 1 as an initial guess as the common tangent will be close to there.\n",
    "1. Using the derivative and coordinates, construct the tangent line at the minimum.\n",
    "1. Extend the tangent line and see if it intersects curve 2, $\\Delta G^l$.\n",
    "    1. **If so**, shift the tangent point *left* on curve 1 and continue building tangent lines of decreasing slope.\n",
    "        1. Repeat step 4.\n",
    "        1. As soon as an extended tangent line *misses* curve 2, **stop**.\n",
    "    1. **If not**, shift the tangent point right on curve 1 and continue building tangent lines of increasing slope.\n",
    "        1. Repeat step 4.\n",
    "        1. As soon as an extended tangent line *intersects* curve 2, **stop**.\n",
    "1. Identify where the common tangent intersects the two curves so we only plot that portion."
   ]
  },
  {
   "cell_type": "code",
   "execution_count": 3,
   "metadata": {},
   "outputs": [],
   "source": [
    "def common_tangent(x, y1, y2, T, beta_s=0):\n",
    "    \"\"\"This function calculates the common tangent of two convex curves.\n",
    "    \n",
    "    Args:\n",
    "        x (numpy.darray): An array of atomic fractions of B.\n",
    "        y1 (numpy.darray): y values for curve 1.\n",
    "        y2 (numpy.darray): y values for curve 2.\n",
    "        T (float): The temperature in Kelvin.\n",
    "        beta_s (float): The interaction parameter for the solid solution.\n",
    "        \n",
    "    Returns:\n",
    "        line (numpy.darray): y values for the common tangent.\n",
    "        idmin (int): Index of the x-coordinate of the first tangent point.\n",
    "        idmax (int): Index of the x-coordinate of the second tangent point.\n",
    "    \"\"\"\n",
    "    # Compute a derivative\n",
    "    dx = 1e-3\n",
    "    dy1 = derivative(func=curve_s, x0=x, dx=dx, args=(T, beta_s,))\n",
    "\n",
    "    # Make an initial guess at the minimum of curve 1\n",
    "    n = len(x)\n",
    "    idmin, idmax = (0, n)\n",
    "    idx = np.argmin(y1)\n",
    "    yp = y1[idx]\n",
    "    xp = x[idx]\n",
    "    dyp = dy1[idx]\n",
    "\n",
    "    # Construct the tangent line and count intersections with curve 2\n",
    "    line = dyp * x + yp - dyp * xp\n",
    "    diff = np.diff(np.sign(y2 - line))\n",
    "    nnz = np.count_nonzero(diff)\n",
    "\n",
    "    # They're the same curve. Used for finding miscibility gap\n",
    "    if np.linalg.norm(y1 - y2) < 1e-4:\n",
    "        idmin = np.argmin(y1[:int(n/2)])\n",
    "        idmax = np.argmin(y1[int(n/2):]) + int(n/2)\n",
    "\n",
    "    # If the tangent line intersects curve 2, shift tangent point to the left\n",
    "    elif nnz >= 1:\n",
    "        while nnz >= 1:\n",
    "            idx -= 1\n",
    "            # try-except to avoid an out-of-bounds error \n",
    "            try:\n",
    "                yp = y1[idx]\n",
    "                xp = x[idx]\n",
    "                dyp = dy1[idx]\n",
    "                line = dyp * x + yp - dyp * xp\n",
    "                diff = np.diff(np.sign(y2 - line))\n",
    "                nnz = np.count_nonzero(diff)\n",
    "            except:\n",
    "                break\n",
    "            if diff.any():\n",
    "                # Assign left and right indices of the tangent points\n",
    "                # Here we do it each time because once we miss, we can't go back\n",
    "                idmax = np.nonzero(diff)[0][0]\n",
    "        idmin = idx\n",
    "\n",
    "    # If the tangent line misses curve 2, shift tangent point to the right\n",
    "    elif nnz < 1:\n",
    "        while nnz < 1:\n",
    "            idx += 1\n",
    "            # try-except to avoid an out-of-bounds error \n",
    "            try:\n",
    "                yp = y1[idx]\n",
    "                xp = x[idx]\n",
    "                dyp = dy1[idx]\n",
    "                line = dyp * x + yp - dyp * xp\n",
    "                diff = np.diff(np.sign(y2 - line))\n",
    "                nnz = np.count_nonzero(diff)\n",
    "            except:\n",
    "                break\n",
    "        # Assign left and right indices of the tangent points\n",
    "        idmin = idx\n",
    "        idmax = np.nonzero(diff)[0][0]\n",
    "    \n",
    "    # Return a tuple\n",
    "    return (line, idmin, idmax)"
   ]
  },
  {
   "cell_type": "markdown",
   "metadata": {},
   "source": [
    "## Widget function\n",
    "\n",
    "Our widget will call `plot_Gx()` each time we interact with it. This function calls `curve_s()` and `curve_l()` to get the solid and liquid free energy curves, respectively. It then calls the `common_tangent()` function above to calculate the common tangent to the two curves. The rest of the function handles the plotting, where I specifically chose to lock the $y$-axis to emphasize how much $\\Delta G^l$ changes as a function of temperature compared to $\\Delta G^s$."
   ]
  },
  {
   "cell_type": "code",
   "execution_count": 4,
   "metadata": {},
   "outputs": [],
   "source": [
    "def plot_Gx(T=1800, beta_s=0, beta_l=0):\n",
    "    \"\"\"This function is called by the widget to perform the plotting based on inputs.\n",
    "    \n",
    "    Args:\n",
    "        T (float): The temperature in Kelvin.\n",
    "        beta_s (float): The interaction parameter for solids in J/mol.\n",
    "        beta_l (float): The interaction parameter for liquids in J/mol.\n",
    "        \n",
    "    Returns:\n",
    "        None, but a pyplot is displayed.\n",
    "    \"\"\"\n",
    "    # For the given temperature, calculate the curves and common tangent\n",
    "    n = int(1e4)\n",
    "    xmin, xmax = (0.001, 0.999)\n",
    "    x = np.linspace(xmin, xmax, n)\n",
    "    y_s = curve_s(x, T, beta_s)\n",
    "    y_l = curve_l(x, T, beta_l)\n",
    "    line, idmin, idmax = common_tangent(x, y_s, y_l, T, beta_s)\n",
    "\n",
    "    # Mostly plot settings for visual appeal\n",
    "    plt.rcParams.update({'figure.figsize':(8,6), 'font.size':20, \\\n",
    "                         'lines.linewidth':4, 'axes.linewidth':2})\n",
    "    fig, ax = plt.subplots()\n",
    "    ax.plot(x, y_s, c='C0', label='solid')\n",
    "    ax.plot(x, y_l, c='C1', label='liquid')\n",
    "    ax.plot(x[idmin:idmax], line[idmin:idmax], c='k', lw=5, ls='-.')\n",
    "    ax.tick_params(top=True, right=True, direction='in', length=10, width=2)\n",
    "    ax.set_xlim(0, 1)\n",
    "    ax.set_ylim(-39, 19)\n",
    "    ax.set_xlabel(r'$x_{B}$')\n",
    "    ax.set_ylabel(r'$\\Delta G$ (kJ/mol)')\n",
    "    ax.set_title('Gibbs free energy at T = {} K'.format(T), fontsize=18)\n",
    "    plt.legend()\n",
    "    plt.show()"
   ]
  },
  {
   "cell_type": "markdown",
   "metadata": {},
   "source": [
    "We create each slider individually for readability and customization."
   ]
  },
  {
   "cell_type": "code",
   "execution_count": 5,
   "metadata": {},
   "outputs": [],
   "source": [
    "mystyle = {'description_width':'130px'}\n",
    "mylayout = layout=Layout(width='400px', height='30px')\n",
    "\n",
    "T_widget = IntSlider(value=1800, min=1400, max=2200, step=50, \\\n",
    "                     description='Temperature (K)', readout_format='d', \\\n",
    "                     style=mystyle, layout=mylayout, continuous_update=False)\n",
    "\n",
    "bs_widget = IntSlider(value=0, min=-1e4, max=1e4, step=250, \\\n",
    "                      description=r'$\\beta_s$ parameter (J/mol)', readout_format='d', \\\n",
    "                      style=mystyle, layout=mylayout, continuous_update=False)\n",
    "\n",
    "bl_widget = IntSlider(value=0, min=-1e4, max=1e4, step=250, \\\n",
    "                      description=r'$\\beta_l$ parameter (J/mol)', readout_format='d', \\\n",
    "                      style=mystyle, layout=mylayout, continuous_update=False)"
   ]
  },
  {
   "cell_type": "markdown",
   "metadata": {},
   "source": [
    "Each time you release your mouse, the plot will automatically update! This is because we specified `continuous_update=False` in the constructor."
   ]
  },
  {
   "cell_type": "code",
   "execution_count": 6,
   "metadata": {},
   "outputs": [
    {
     "data": {
      "application/vnd.jupyter.widget-view+json": {
       "model_id": "cb56d1fdcf134b73a9260cc076bbab89",
       "version_major": 2,
       "version_minor": 0
      },
      "text/plain": [
       "interactive(children=(IntSlider(value=1800, continuous_update=False, description='Temperature (K)', layout=Lay…"
      ]
     },
     "metadata": {},
     "output_type": "display_data"
    }
   ],
   "source": [
    "interact(plot_Gx, T=T_widget, beta_s=bs_widget, beta_l=bl_widget);"
   ]
  },
  {
   "cell_type": "markdown",
   "metadata": {},
   "source": [
    "\n",
    "--------------------------------------------\n",
    "\n",
    "--------------------------------------------\n",
    "\n",
    "--------------------------------------------\n",
    "\n",
    "\n",
    "## Creating the phase diagram\n",
    "\n",
    "Now that we have everything set up, it's your job to finish off the notebook. This probably sounds silly, but before taking MATSCI 201A, it did not occur to me that the data above actually correspond to a phase diagram. I guess that just wasn't emphasized in my undergraduate studies or I simply dozed off. **/shrug**\n",
    "\n",
    "But they do! Specifically, the common tangent indicates, for a specific $T$, the region of solid-liquid coexistence. The two tangent points on the solid and liquid curves lie on the solidus and liquidus curves, respectively. Knowing this, we'll now loop through a few values of $T$ (`Ts`) to obtain a set of $x$-coordinates and then construct the phase diagram from them."
   ]
  },
  {
   "cell_type": "code",
   "execution_count": 7,
   "metadata": {},
   "outputs": [],
   "source": [
    "# Enumerate the temperatures we want to calculate phase boundaries at. \n",
    "# 9 points give enough detail without being too computationally expensive.\n",
    "Ts = np.linspace(1480, 2152, 9)"
   ]
  },
  {
   "cell_type": "markdown",
   "metadata": {},
   "source": [
    "**TODO**: Your job is to figure out where the common tangent points are for each value of $T$. If you didn't change any of the above data or code, you may assume that each value of $T$ in `Ts` has two tangent points. Once you figure out the $x$-coordinates of these points, store them into the correct array, either `liquidus` or `solidus`.\n",
    "\n",
    "Hints:\n",
    "* You should shoot for **~6-8** lines of code. Any more than 10 and you might be on the wrong track.\n",
    "* Look at `plot_Gx()` for some inspiration of how to obtain the $x$-coordinates of the common tangent.\n",
    "* Since the code in `plot_Gx()` work for a single `T`, you'll want to nest what you write below inside a [`for` loop](https://www.w3schools.com/python/python_for_loops.asp) for the `Ts` array.\n",
    "* You can start with a phase diagram for the ideal solution, where $\\beta^s = \\beta^l = 0$. This is the default setting for $\\beta$ so you don't have to specify anything.\n",
    "* Given an index `i`, the value of array `x` at index `i` is given by `x[i]`.\n",
    "* To add an element to the end of a Python array such as `liquidus`, type `liquidus.append(your_value)`.\n",
    "* When you're done, run the cell with `Shift+Enter`. It should take around 5 seconds."
   ]
  },
  {
   "cell_type": "code",
   "execution_count": 8,
   "metadata": {},
   "outputs": [],
   "source": [
    "# Create empty arrays to track the x-coordinates of the boundaries\n",
    "liquidus = []\n",
    "solidus = []\n",
    "\n",
    "# Same x-axis as before\n",
    "n = int(1e4)\n",
    "xmin, xmax = (0.001, 0.999)\n",
    "x = np.linspace(xmin, xmax, n)\n",
    "\n",
    "# ---------------------- #\n",
    "# YOUR CODE HERE\n",
    "for T in Ts:\n",
    "    ys = curve_s(x, T)\n",
    "    yl = curve_l(x, T)\n",
    "    l, idmin, idmax = common_tangent(x, ys, yl, T)\n",
    "    liquidus.append(x[idmax])\n",
    "    solidus.append(x[idmin])\n",
    "# ---------------------- #"
   ]
  },
  {
   "cell_type": "markdown",
   "metadata": {},
   "source": [
    "If you've populated your `liquidus` and `solidus` arrays correctly, the following code should plot the phase diagram. You'll see the solidus curve in blue and liquidus curve in orange. Dots mark the specific tangent points you calculated."
   ]
  },
  {
   "cell_type": "code",
   "execution_count": 9,
   "metadata": {},
   "outputs": [
    {
     "data": {
      "image/png": "[encoded data removed]",
      "text/plain": [
       "<Figure size 576x432 with 1 Axes>"
      ]
     },
     "metadata": {
      "needs_background": "light"
     },
     "output_type": "display_data"
    }
   ],
   "source": [
    "plt.rcParams.update({'figure.figsize':(8,6), 'font.size':20, \\\n",
    "                     'lines.linewidth':4, 'lines.markersize':15, 'axes.linewidth':2})\n",
    "fig, ax = plt.subplots()\n",
    "ax.plot(liquidus, Ts, '-o', c='C1', label='liquidus')\n",
    "ax.plot(solidus, Ts, '-o', c='C0', label='solidus')\n",
    "ax.annotate(s='solid', xy=(0.45, 1400))\n",
    "ax.annotate(s='solid+liquid', xy=(0.4, 1710))\n",
    "ax.annotate(s='liquid', xy=(0.45, 2150))\n",
    "ax.tick_params(right=True, top=True, direction='in', length=10, width=2)\n",
    "ax.set_xlim(0, 1)\n",
    "ax.set_ylim(1100, 2500)\n",
    "ax.set_xlabel(r'$x_{B}$')\n",
    "ax.set_ylabel(r'$T$ (K)')\n",
    "plt.legend()\n",
    "plt.show()"
   ]
  },
  {
   "cell_type": "markdown",
   "metadata": {},
   "source": [
    "## The appearance of the miscibility gap\n",
    "But wait, there's more! By using much of the code we have already written and changing a few of the $\\beta$ parameters, we can actually make a miscibility gap appear. In fact, many phase diagrams have both a miscibility gap and a solid+liquid region; they're usually not shown on the same plot because they're separated by a large temperature difference. This was one of many aspects of MATSCI 201A that blew my mind.\n",
    "\n",
    "The miscibility gap arises at low temperatures in the regular solution model when the $\\beta$ parameter is large. We'll find the common tangent on the $\\Delta G^s$ curve, and the tangent points will demarcate the **solvus** surrounding the miscibility gap.\n",
    "\n",
    "**TODO**: Please finish the following code. If you were able to successfully complete the lens diagram portion, then you should find this part to be even easier. Some hints are:\n",
    "* Now we just have to compute one curve at each $T$ and find the common tangent with itself. You can read the `common_tangent()` function for more information on how this is implemented.\n",
    "* You want to add **each** tangent point to the `solvus` list as a **separate tuple**, in the form `(x-coord, T)`"
   ]
  },
  {
   "cell_type": "code",
   "execution_count": 10,
   "metadata": {},
   "outputs": [],
   "source": [
    "# New parameters and variables\n",
    "beta_s = 11000\n",
    "T_misc = 660 * np.array([0.5, 0.6, 0.7, 0.8, 0.9, 0.95, 1.0])\n",
    "solvus = []\n",
    "\n",
    "# ---------------------- #\n",
    "# YOUR CODE HERE\n",
    "for T in T_misc:\n",
    "    ys = curve_s(x, T, beta_s)\n",
    "    l, idmin, idmax = common_tangent(x, ys, ys, T, beta_s)\n",
    "    solvus.append((x[idmin], T))\n",
    "    solvus.append((x[idmax], T))\n",
    "# ---------------------- #\n",
    "solvus = sorted(solvus, key=lambda x: x[0])"
   ]
  },
  {
   "cell_type": "markdown",
   "metadata": {},
   "source": [
    "In the last line above, we sort the points by increasing $x$-coordinate so that the dots are connected in sequence when we plot them. You should see a miscibility gap in the phase diagram below. Although the numbers are soemwhat fudged, they're still well within reason, suggesting how fundamentally related all these plots and concepts are."
   ]
  },
  {
   "cell_type": "code",
   "execution_count": 11,
   "metadata": {},
   "outputs": [
    {
     "data": {
      "image/png": "[encoded data removed]",
      "text/plain": [
       "<Figure size 576x432 with 1 Axes>"
      ]
     },
     "metadata": {
      "needs_background": "light"
     },
     "output_type": "display_data"
    }
   ],
   "source": [
    "plt.rcParams.update({'figure.figsize':(8,6), 'font.size':20, \\\n",
    "                     'lines.linewidth':4, 'lines.markersize':15, 'axes.linewidth':2})\n",
    "fig, ax = plt.subplots()\n",
    "ax.plot(*zip(*solvus), '-o', label='solvus')\n",
    "ax.fill_between(*zip(*solvus), color='C7', alpha=0.3)\n",
    "ax.plot(x, 665 * np.ones(x.shape), ls='dashed')\n",
    "ax.annotate(s=r'$T_c$', xy=(0.1, 672))\n",
    "ax.annotate(s='miscibility gap', xy=(0.33, 520))\n",
    "ax.annotate(s=r'$\\alpha$', xy=(0.49, 685))\n",
    "ax.annotate(s=r'$\\alpha_1$', xy=(0.08, 590))\n",
    "ax.annotate(s=r'$\\alpha_2$', xy=(0.87, 590))\n",
    "ax.tick_params(right=True, top=True, direction='in', length=10, width=2)\n",
    "ax.set_xlim(0, 1)\n",
    "ax.set_ylim(360, 725)\n",
    "ax.set_xlabel(r'$x_{B}$')\n",
    "ax.set_ylabel(r'$T$ (K)')\n",
    "plt.legend()\n",
    "plt.show()"
   ]
  },
  {
   "cell_type": "markdown",
   "metadata": {},
   "source": [
    "## Conclusion\n",
    "I hope this notebook helped you with visualizing the thermodynamics of ideal and regular solutions and gave you some Python practice. If you have any remaining questions or ideas for this and other modules, please don't hesitate to reach out."
   ]
  }
 ],
 "metadata": {
  "kernelspec": {
   "display_name": "Python 3",
   "language": "python",
   "name": "python3"
  },
  "language_info": {
   "codemirror_mode": {
    "name": "ipython",
    "version": 3
   },
   "file_extension": ".py",
   "mimetype": "text/x-python",
   "name": "python",
   "nbconvert_exporter": "python",
   "pygments_lexer": "ipython3",
   "version": "3.7.3"
  }
 },
 "nbformat": 4,
 "nbformat_minor": 4
}
