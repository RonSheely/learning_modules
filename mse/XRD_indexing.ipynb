{
 "cells": [
  {
   "cell_type": "markdown",
   "metadata": {},
   "source": [
    "# X-ray diffraction (XRD) indexing calculations\n",
    "\n",
    "*Author: Enze Chen (University of California, Berkeley)*\n",
    "\n",
    "![Powder XRD spectra](https://raw.githubusercontent.com/enze-chen/learning_modules/master/fig/XRD_unlabeled.png)\n",
    "\n",
    "This Jupyter notebook is meant expose MSE students **with little to no Python experience** to a programmatic way of indexing a XRD spectra. \n",
    "It walks through the process step-by-step, so it is quite long. \n",
    "I tried to include ample explanations for the scientific computing techniques and how they relate to math and MSE concepts. \n",
    "If you already know another language like MATLAB or R, you should see some similarities. \n",
    "At the end, your results will be shown in a **table**, not on a spectra like the image above."
   ]
  },
  {
   "cell_type": "markdown",
   "metadata": {},
   "source": [
    "## Prerequisites\n",
    "\n",
    "To get the most out of this notebook, you should already have:\n",
    "\n",
    "* Familiarity with how XRD physically works and how to use Bragg's law to index peaks by hand."
   ]
  },
  {
   "cell_type": "markdown",
   "metadata": {},
   "source": [
    "## Learning goals\n",
    "\n",
    "By the end of this notebook, you should be able to:\n",
    "\n",
    "* *Identify* basic scientific computing libraries and operations in Python.\n",
    "* *Write* Python code to index peaks given your own data."
   ]
  },
  {
   "cell_type": "markdown",
   "metadata": {},
   "source": [
    "## How to run this notebook\n",
    "\n",
    "If you are viewing this notebook on [Google Colaboratory](https://colab.research.google.com/github/enze-chen/learning_modules/blob/master/mse/XRD_indexing.ipynb), then all the software is already set up for you (hooray). If you want to run the notebook locally, make sure all the Python libraries in the [`requirements.txt`](https://github.com/enze-chen/learning_modules/blob/master/requirements.txt) file are installed.\n",
    "\n",
    "For pedagogical reasons, there are a few places for you to fill in your own code in order to make the notebook fully functional. These are delineated with the dashed lines as follows, and you should **only change what's inside**. You don't have to edit the text or code anywhere else. I've also included \"**TODO**\" to separate the background context from the actual instructions.\n",
    "\n",
    "```python\n",
    "# ----------  YOUR CODE HERE  ---------- #\n",
    "\n",
    "# -------------------------------------- #\n",
    "```\n",
    "\n",
    "To execute each cell of the notebook and automatically advance to the next cell, press `Shift+Enter`. If you edit the code in a cell, just press `Shift+Enter` to run it again. You have to execute **all** the code cells in this notebook in order from top to bottom (so don't skip around). A number `[#]` will appear to the left of the code cell once it's done executing.\n",
    "\n",
    "When done successfully, you'll be able to generate a table with all the relevant calculations at the end."
   ]
  },
  {
   "cell_type": "markdown",
   "metadata": {},
   "source": [
    "------------------------------------------------------------------------\n",
    "\n",
    "## Introduction and motivation\n",
    "\n",
    "### Why should I learn this?\n",
    "\n",
    "These were my motivations in creating this notebook:   \n",
    "* Computational tools are becoming **increasingly pervasive** in all sub-fields of MSE.\n",
    "    * In characterization, experimental data from high-energy physics and 4D-STEM are being generated at the rate of hundreds of GBs per second. The **bottleneck to scientific discovery** is now in processing and analyzing this data.\n",
    "* Both academia and industry are beginning to view programming as a **core competency**, even if you are \"not a programmer.\"\n",
    "* Indexing powder XRD patterns is a **routine procedure with several repetitive tasks**, making it a great candidate for programmatic solutions. Write once, run anytime.\n",
    "* All the buzz around computer science can make these topics appear overwhelming and exclusive. Hopefully this notebook **lowers that barrier** by a teeny amount.\n",
    "* The choice of Python (over MATLAB, for example) is because it's **open source**, [beginner-friendly](https://xkcd.com/353/), easily integrated with [Jupyter](https://jupyter.org/), and **[insanely popular](https://149351115.v2.pressablecdn.com/wp-content/uploads/2017/09/projections-1-1024x878.png)**.\n",
    "    * If this notebook gets you excited, there are plenty of great resources and courses out there (e.g., CS 61) for learning pure Python.\n",
    "    * MSE 215: Computational Materials Science at UC Berkeley is a course that uses Python.\n",
    "    * DATA 100 and PHYSICS 188 also teach you Python and applied mathematics / data science."
   ]
  },
  {
   "cell_type": "markdown",
   "metadata": {},
   "source": [
    "### Important equations\n",
    "The most important equation is **Bragg's law**, given by \n",
    "\n",
    "$$ n\\lambda = 2d \\sin(\\theta) \\tag{1} $$\n",
    "\n",
    "where $n$ is the order (typically $1$), $\\lambda$ is the wavelength, $d$ is the interplanar spacing, and $\\theta$ is the Bragg angle. \n",
    "\n",
    "At the very end, if you're interested in finding the lattice constant to identify the element, you will have to relate the lattice constant to the interplanar spacing. The formula depends on the crystal system, and for cubic systems it is given by\n",
    "\n",
    "$$ d = \\frac{a}{\\sqrt{h^2 + k^2 + l^2}} \\tag{2} $$\n",
    "\n",
    "where $a$ is the lattice constant and $h,k,l$ are the Miller indices for the plane.\n",
    "\n",
    "For more information, please reference [Elements of X-Ray Diffraction (3rd) - Cullity and Stock](https://www.pearson.com/us/higher-education/program/Cullity-Elements-of-X-Ray-Diffraction-3rd-Edition/PGM113710.html)."
   ]
  },
  {
   "cell_type": "markdown",
   "metadata": {},
   "source": [
    "## Python library imports\n",
    "These are all the required Python libraries. Like in many other languages (Java, C++, Julia, R), you have to import any special libraries before you can use their functions in your code.\n",
    "\n",
    "* [NumPy](https://numpy.org/) is a popular scientific computing library in Python.\n",
    "\n",
    "* [pandas](https://pandas.pydata.org/) is a popular Python library for working with tabular data. Parts of it are built with NumPy. It's pronounced exactly how you think it's pronounced but unfortunately has no relationship to the cute bear.\n",
    "\n",
    "**TODO**: You have to execute the following code cell with `Shift+Enter` before any of the others."
   ]
  },
  {
   "cell_type": "code",
   "execution_count": null,
   "metadata": {},
   "outputs": [],
   "source": [
    "# In-line comments in Python start with pound signs\n",
    "# We assign aliases to save characters/space when we call them later; this is standard practice\n",
    "import numpy as np\n",
    "import pandas as pd"
   ]
  },
  {
   "cell_type": "markdown",
   "metadata": {},
   "source": [
    "## Index the peaks and identify the structure from powder XRD data\n",
    "\n",
    "Typically in an XRD experiment, you will measure a spectra which features peaks and corresponding $2\\theta$ values. \n",
    "Along with the X-ray wavelength ($\\lambda$), these are all you have (and need) to index the peaks and identify the crystal structure, possibly even the material (e.g. if it's a single element).\n",
    "\n",
    "### 1. Inputs / experimental data\n",
    "\n",
    "**TODO**: Start by typing in your known values:\n",
    "* Wavelength: A **float** (decimal) in *nanometers*, most likely `0.154` corresponding to $\\text{Cu-K}\\alpha$.\n",
    "* Angles: Values are $2\\theta$ in *degrees*. The angles should be stored in a **list** (array) in the form \n",
    "```python\n",
    "angles = [1.23, 4.56, 7.89]  \n",
    "```\n",
    "for however many $2\\theta$ values you've measured. Don't forget to execute the code cell (`Shift+Enter`) when you're done.\n",
    "\n",
    "If you don't have your own data, you can use the sample data [in this file](https://github.com/enze-chen/learning_modules/blob/master/data/xrd_peaks_CuKa.csv)."
   ]
  },
  {
   "cell_type": "code",
   "execution_count": null,
   "metadata": {},
   "outputs": [],
   "source": [
    "# ----------  YOUR CODE HERE  ---------- #\n",
    "\n",
    "wavelength =    # TODO: wavelength in nm as a float\n",
    "angles =        # TODO: 2theta angles in degrees\n",
    "\n",
    "# -------------------------------------- #"
   ]
  },
  {
   "cell_type": "markdown",
   "metadata": {},
   "source": [
    "### 2. Creating our first DataFrame\n",
    "\n",
    "The way pandas organizes tabular data is by storing them inside [**DataFrame**](https://pandas.pydata.org/pandas-docs/stable/reference/api/pandas.DataFrame.html) objects. \n",
    "We can create a DataFrame object using its constructor, which takes many possible forms. \n",
    "The constructor used here takes in a **dictionary** made up of several `key:value` pairs as follows:\n",
    "\n",
    "```python\n",
    "pd.DataFrame({name_col_1:data_col_1, name_col_2:data_col_2, ...})\n",
    "```\n",
    "\n",
    "where `name_col_#` is the name of the column and `data_col_#` are the values in that column. \n",
    "Note how we use the `pd` alias to reference pandas and call the DataFrame constructor.\n",
    "We save this DataFrame as the `df` variable. \n",
    "\n",
    "We want to have a column for the X-ray wavelength and a second column for the $2\\theta$ angles. The following code has a column for the wavelength already specified, where the name of the column is `'Wavelength'` and the values are the `wavelength` values from the previous cell.\n",
    "\n",
    "**TODO**: Add another column in the constructor for the angles. Let's name the new column `'2Theta'` and map it to our `angles` variable that we created.\n",
    "\n",
    "A handy feature of Jupyter notebooks is that if you write a variable on the **last line** of any code block, that variable will automatically be displayed in a nice format. This is very helpful for debugging and visualizations. No need for `print(df)`.\n",
    "* *Note*: This is only for Jupyter notebooks and might crash your Python code if you try it elsewhere!"
   ]
  },
  {
   "cell_type": "code",
   "execution_count": null,
   "metadata": {},
   "outputs": [],
   "source": [
    "# ----------  YOUR CODE HERE  ---------- #\n",
    "\n",
    "df = pd.DataFrame({'Wavelength':wavelength, })   # TODO: add an entry for angles\n",
    "\n",
    "# -------------------------------------- #\n",
    "df  # you should see two columns with your data!"
   ]
  },
  {
   "cell_type": "markdown",
   "metadata": {},
   "source": [
    "If you're astute, you'll notice that pandas automatically duplicated the wavelength (a scalar) for each angle (stored in an array). This is called [array broadcasting](https://numpy.org/doc/stable/user/theory.broadcasting.html#array-broadcasting-in-numpy) in NumPy and generally must be exercised with extreme caution!"
   ]
  },
  {
   "cell_type": "markdown",
   "metadata": {},
   "source": [
    "### 3. Numerical calculations\n",
    "Note that if we assume $n=1$ in Bragg's law, then we have three unknowns. \n",
    "In our case, we know the wavelength and angle, so we can find the interplanar spacing as follows:\n",
    "\n",
    "$$ d = \\frac{\\lambda}{2 \\sin (\\theta)} \\tag{3} $$\n",
    "\n",
    "We will try to do this in a very principled fashion. "
   ]
  },
  {
   "cell_type": "markdown",
   "metadata": {},
   "source": [
    "#### 3.1 Find $\\theta$ \n",
    "\n",
    "First, we need to get the $\\theta$ values. \n",
    "We can do this by creating a new column in the DataFrame whose entries are computed by dividing the existing column of $2\\theta$ values by 2. \n",
    "The syntax for selecting an existing column in the DataFrame is by using its name as follows:\n",
    "\n",
    "```python\n",
    "df['2Theta']\n",
    "```\n",
    "\n",
    "To perform division, we can type `/ 2` after the column and store the result into a new `'Theta'` column in the DataFrame. By writing \n",
    "\n",
    "```python\n",
    "df['Theta']\n",
    "```\n",
    "\n",
    "on the left-hand side of the `=` sign, we're automatically creating a new column that we're about to assign values to.\n",
    "\n",
    "**TODO**: Finish the right-hand side of the code below."
   ]
  },
  {
   "cell_type": "code",
   "execution_count": null,
   "metadata": {},
   "outputs": [],
   "source": [
    "# ----------  YOUR CODE HERE  ---------- #\n",
    "\n",
    "df['Theta'] =    # TODO: calculate theta\n",
    "\n",
    "# -------------------------------------- #\n",
    "df   # you should now have a third column called 'Theta' that's been added"
   ]
  },
  {
   "cell_type": "markdown",
   "metadata": {},
   "source": [
    "#### 3.2 Take the sine\n",
    "\n",
    "Next, we'll compute the sine of the $\\theta$ values using a function from the NumPy library. \n",
    "Specifically, it is the `np.sin()` function, whose argument inside the parentheses **must be in radians**. \n",
    "If you apply the function on an array of values, it will know to evaluate the sine of each element individually. \n",
    "Luckily, there is also a `np.radians()` function that will convert an array from degrees to radians for us. \n",
    "\n",
    "**TODO**: Write one line of code to add a column named `'Sine'` to your DataFrame. \n",
    "Your code should resemble the following, where you'll have to fill in the blank with the appropriate column from your existing DataFrame.\n",
    "\n",
    "```python\n",
    "df['Sine'] = np.sin(np.radians(______))\n",
    "```"
   ]
  },
  {
   "cell_type": "code",
   "execution_count": null,
   "metadata": {},
   "outputs": [],
   "source": [
    "# ----------  YOUR CODE HERE  ---------- #\n",
    "\n",
    "# TODO: Add a column for the sine of the angle\n",
    "\n",
    "# -------------------------------------- #\n",
    "df   # you should now have a fourth column called 'Sine'"
   ]
  },
  {
   "cell_type": "markdown",
   "metadata": {},
   "source": [
    "#### 3.3 Calculate the interplanar spacing, $d$\n",
    "Now you have all the pieces in place for calculating $d$. What's dope about pandas is that you can perform element-wise division of two columns with the same dimensions by use of the division operator, `/`. \n",
    "\n",
    "**TODO**: Create a new column `df['Distance']` that does exactly what **Equation (3)** says. `df['Wavelength']` and `df['Sine']` should both appear on the right hand side. Don't forget to include parentheses when you multiply the denominator by 2!"
   ]
  },
  {
   "cell_type": "code",
   "execution_count": null,
   "metadata": {},
   "outputs": [],
   "source": [
    "# ----------  YOUR CODE HERE  ---------- #\n",
    "\n",
    "# TODO: Calculate the interplanar spacing\n",
    "\n",
    "\n",
    "# -------------------------------------- #\n",
    "df   # you should now have a fifth column called 'Distance'"
   ]
  },
  {
   "cell_type": "markdown",
   "metadata": {},
   "source": [
    "#### 3.4 Take the ratio of $d^2$ values\n",
    "\n",
    "At this point, you know to take the ratio between the first distance and each distance measured. \n",
    "However, I think there's a small \"hack\" to this. \n",
    "If you do it naively, you'll get numbers like `1.000`, `1.414`, `1.732`, and the like. \n",
    "Unless you know your square root approximations, this can be tricky to decipher. \n",
    "I prefer to **square** the distances first, and then take the ratio. \n",
    "I've done the first part below and stored the squared distances into a sixth column. \n",
    "\n",
    "**TODO**: Now you have to create a new column called `'Ratio'` whose values are *the first element* of `'Distance^2'` divided by *the entire column* `'Distance^2'`. The pandas syntax to access the first element in a column is\n",
    "\n",
    "```python\n",
    "df['Distance^2'][0]\n",
    "```\n",
    "\n",
    "The resulting column should have values that are close to integers or multiples of $\\frac{1}{3}$."
   ]
  },
  {
   "cell_type": "code",
   "execution_count": null,
   "metadata": {},
   "outputs": [],
   "source": [
    "df['Distance^2'] = df['Distance']**2   # Creates a sixth column\n",
    "\n",
    "# ----------  YOUR CODE HERE  ---------- #\n",
    "\n",
    "# TODO: Take the ratio\n",
    "\n",
    "# -------------------------------------- #\n",
    "df   # you should now have a seventh column called 'Ratio'"
   ]
  },
  {
   "cell_type": "markdown",
   "metadata": {},
   "source": [
    "#### 3.5 Figure out the crystal structure and index the peaks\n",
    "\n",
    "OK! At this point, the ratios should be enough for you to deduce which crystal structure you have on your hands. \n",
    "This will allow you to index the peaks accordingly. \n",
    "You can probably do this part by hand. "
   ]
  },
  {
   "cell_type": "markdown",
   "metadata": {},
   "source": [
    "## Extensions\n",
    "\n",
    "### Solving for the crystal structure\n",
    "\n",
    "To programmatically solve for the crystal structure, you will have to pattern match the ratios you obtained with known ratios for the simple crystal structures.\n",
    "This is slightly tedious so I've omitted it here, but not anymore difficult to do than what we've already done.\n",
    "\n",
    "\n",
    "### Lattice constants\n",
    "\n",
    "If you want elemental identification, you will need to calculate the lattice constant. \n",
    "This should be fairly simple since you can pick any of the peaks from your final results and just apply **Equation (2)** from above. \n",
    "This only takes a couple seconds on any calculator. \n",
    "But if you do it with code for all the peak calculations, you can then run some statistics to quantify the variability.\n",
    "\n",
    "\n",
    "### TEM diffraction\n",
    "\n",
    "How might you modify the code to index a ring pattern from polycrystalline diffraction? What about a spot pattern for single crystals?\n",
    "\n",
    "\n",
    "### Peak fitting/identification\n",
    "\n",
    "Technically, the output of a powder XRD experiment is an entire spectra, not a set of angles for where the peaks are. \n",
    "It's stored as a column of $2\\theta$ values followed by a column of $\\text{Intensity}$ values. \n",
    "How might code help you extract the positions of the peaks?"
   ]
  },
  {
   "cell_type": "markdown",
   "metadata": {},
   "source": [
    "----------------------------------\n",
    "\n",
    "## Conclusion\n",
    "\n",
    "Congratulations on making it to the end! \n",
    "This short notebook doesn't do NumPy or pandas justice, but hopefully it gives you a sneak peek at the power of scientific computing and the impact it can have in materials characterization and MSE more broadly. \n",
    "Or maybe the only utility for you is helping you complete your homework assignments, and that's fine too. \n",
    "If you have any remaining questions or ideas for this and other modules, please don't hesitate to reach out.\n",
    "\n",
    "## Acknowledgements\n",
    "\n",
    "I thank Han-Ming Hau for helpful discussions and my Stanford undergraduate instructors [Prof. Renee Sher](https://www.wesleyan.edu/academics/faculty/msher/profile.html) and [Dr. Arturas Vailionis](https://profiles.stanford.edu/arturas-vailionis) for teaching me XRD. \n",
    "I also thank my advisor [Prof. Mark Asta](https://mse.berkeley.edu/people_new/asta/) for his unwavering encouragement for my education-related pursuits. \n",
    "This interactive project is generously hosted on [GitHub](https://github.com/enze-chen/learning_modules) and [Google Colaboratory](https://colab.research.google.com/github/enze-chen/learning_modules/blob/master/mse/XRD_indexing.ipynb)."
   ]
  }
 ],
 "metadata": {
  "kernelspec": {
   "display_name": "Python 3",
   "language": "python",
   "name": "python3"
  },
  "language_info": {
   "codemirror_mode": {
    "name": "ipython",
    "version": 3
   },
   "file_extension": ".py",
   "mimetype": "text/x-python",
   "name": "python",
   "nbconvert_exporter": "python",
   "pygments_lexer": "ipython3",
   "version": "3.7.3"
  }
 },
 "nbformat": 4,
 "nbformat_minor": 4
}
