{
 "cells": [
  {
   "cell_type": "markdown",
   "metadata": {},
   "source": [
    "# X-ray diffraction (XRD) spectra trends\n",
    "\n",
    "*Authors: Enze Chen (University of California, Berkeley)*\n",
    "\n",
    "![Powder XRD spectra](https://raw.githubusercontent.com/enze-chen/learning_modules/master/fig/XRD_labeled.png)\n",
    "\n",
    "This is an interactive notebook for playing around with some experimental parameters ($a$, $\\lambda$, $T$, etc.) and observing the effect on the resulting XRD spectra. I find XRD to be a particularly beautiful subject and I couldn't find any similar visualizations online. I hope this interactive demo will help you learn the _qualitative trends_ associated with powder XRD spectra."
   ]
  },
  {
   "cell_type": "markdown",
   "metadata": {},
   "source": [
    "## Prerequisites\n",
    "\n",
    "To get the most out of this notebook, you should already have:    \n",
    "- Knowledge of XRD fundamentals such as Bragg's law and intensity factors."
   ]
  },
  {
   "cell_type": "markdown",
   "metadata": {},
   "source": [
    "## Learning goals\n",
    "\n",
    "By the end of this notebook, you should be able to *assess* how changing the following experimental inputs affects the XRD spectra:     \n",
    "- Crystal structure\n",
    "- Lattice constant\n",
    "- X-ray wavelength\n",
    "- Temperature\n",
    "- Strain\n",
    "- Crystallite size\n",
    "\n",
    "### Interested in coding?\n",
    "\n",
    "If you were looking for a more thorough review, including a **scaffolded programming exercise** to generate the XRD spectra, please see [my other notebook](https://colab.research.google.com/github/enze-chen/learning_modules/blob/master/mse/XRD_plotting.ipynb) that will walk you through most of the details."
   ]
  },
  {
   "cell_type": "markdown",
   "metadata": {},
   "source": [
    "## How to use this notebook\n",
    "\n",
    "If you are viewing this notebook on [Google Colaboratory](https://colab.research.google.com/github/enze-chen/learning_modules/blob/master/mse/XRD_trends.ipynb), then everything is already set up for you (hooray).\n",
    "If you want to **save a copy** of this notebook for yourself, go to \"File > Save a copy in Drive\" and you will find it in your Google Drive account under \"My Drive > Colab Notebooks.\"\n",
    "If you want to run the notebook locally, you can download it and make sure all the Python modules in the [`requirements.txt`](https://github.com/enze-chen/learning_modules/blob/master/requirements.txt) file are installed before running it.\n",
    "\n",
    "To run this notebook, run all the cells (e.g. `Runtime > Run all` in the menu) and then adjust the sliders at the bottom. Click `Generate Plot` each time you change a setting. I **strongly recommend** just running the code and experimenting with the inputs *before* reading the code in great detail."
   ]
  },
  {
   "cell_type": "markdown",
   "metadata": {},
   "source": [
    "---------------------------\n",
    "\n",
    "## A few important equations (very quick review)\n",
    "\n",
    "By far the most important equation is [not surprisingly] **Bragg's law**, given by \n",
    "\n",
    "$$n\\lambda = 2d \\sin(\\theta)$$\n",
    "\n",
    "where $n$ is the order (typically $1$), $\\lambda$ is the wavelength, $d$ is the interplanar spacing, and $\\theta$ is the Bragg angle. Here we will solve for $\\theta$ as follows:\n",
    "\n",
    "$$ \\lambda = 2d \\sin(\\theta) \\longrightarrow \\theta = \\sin^{-1} \\left( \\frac{\\lambda}{2d} \\right), \\quad d = \\frac{a}{\\sqrt{h^2 + k^2 + l^2}} $$\n",
    "\n",
    "where $h,k,l$ are the miller indices of the diffracting plane and $a$ is the lattice constant. The above formula for $d$ assumes a cubic structure.\n",
    "\n",
    "Another important equation is for the **Intensity**, given by\n",
    "\n",
    "$$ I = |F|^2 \\times P \\times L \\times m \\times A \\times T $$\n",
    "\n",
    "where\n",
    "* $F$ is the structure factor (we take the modulus before squaring because it might be a complex number).\n",
    "* $P$ is the polarization factor.\n",
    "* $L$ is the Lorentz factor.\n",
    "* $m$ is the multiplicity factor.\n",
    "* $A$ is the absorption factor.\n",
    "* $T$ is the temperature factor.\n",
    "\n",
    "Furthermore, recall that size effects can be included through the **Scherrer equation**, given by \n",
    "\n",
    "$$ t = \\frac{K\\lambda}{\\beta \\cos(\\theta)} $$ \n",
    "\n",
    "where $t$ is the crystallite/grain thickness, $K \\sim 0.9$ is a shape factor, and $\\beta$ is the full width at half maximum of the peak in radians.\n",
    "\n",
    "For more information, please reference [*Elements of X-Ray Diffraction* (3rd)](https://www.pearson.com/us/higher-education/program/Cullity-Elements-of-X-Ray-Diffraction-3rd-Edition/PGM113710.html) by Cullity and Stock, which is a fantastic textbook."
   ]
  },
  {
   "cell_type": "markdown",
   "metadata": {},
   "source": [
    "----------------------------------\n",
    "\n",
    "## Python module imports\n",
    "\n",
    "These are all the required Python modules."
   ]
  },
  {
   "cell_type": "code",
   "execution_count": null,
   "metadata": {},
   "outputs": [],
   "source": [
    "# General modules\n",
    "import itertools\n",
    "\n",
    "# Scientific computing modules\n",
    "import numpy as np\n",
    "import scipy.stats as stats\n",
    "import matplotlib.pyplot as plt\n",
    "%matplotlib inline\n",
    "\n",
    "# Interactivity modules\n",
    "from ipywidgets import interact_manual, fixed, \\\n",
    "                       IntSlider, FloatSlider, FloatLogSlider, RadioButtons, \\\n",
    "                       Button, Layout"
   ]
  },
  {
   "cell_type": "markdown",
   "metadata": {},
   "source": [
    "## Widget function\n",
    "\n",
    "Our widget will call `plot_XRD()` each time we interact with it. This function calculates the structure factor and the intensities and then plots the spectra on an $\\text{Intensity vs. } 2\\theta$ plot. I've tried my best to keep the code simple and yet illustrative. Please see comments for more information."
   ]
  },
  {
   "cell_type": "code",
   "execution_count": null,
   "metadata": {
    "code_folding": []
   },
   "outputs": [],
   "source": [
    "def plot_XRD(a, wavelength, cell_type, thickness, T=0, K=0.94):\n",
    "    \"\"\"This function is called by the widget to perform the plotting based on inputs.\n",
    "    \n",
    "    Args:\n",
    "        a (float): Lattice constant in nanometers.\n",
    "        wavelength (float): X-ray wavelength in nanometers.\n",
    "        cell_type (str): Crystal structure, can be FCC, BCC, or DC.\n",
    "        thickness (float): Crystallite size in nanometers.\n",
    "        T (int): Temperature in Kelvin. Default = 0.\n",
    "        K (float): Scherrer equation parameter. Default = 0.94 (cubic).\n",
    "        \n",
    "    Returns:\n",
    "        None, but a pyplot is displayed.\n",
    "    \"\"\"\n",
    "    \n",
    "    # Crystallographic planes\n",
    "    planes = [[1,0,0], [1,1,0], [1,1,1], [2,0,0], [2,1,0], [2,1,1], [2,2,0],\\\n",
    "              [2,2,1], [3,0,0], [3,1,0], [3,1,1], [2,2,2], [3,2,0], [3,2,1]]\n",
    "    planes_str = [f'$({p[0]}{p[1]}{p[2]})$' for p in planes]   # string labels\n",
    "\n",
    "    # Set the basis\n",
    "    basis = []\n",
    "    if cell_type is 'FCC':\n",
    "        basis = np.array([[0,0,0], [0.5,0.5,0], [0.5,0,0.5], [0,0.5,0.5]])\n",
    "    elif cell_type is 'BCC':\n",
    "        basis = np.array([[0,0,0], [0.5,0.5,0.5]])\n",
    "    elif cell_type is 'DC':\n",
    "        basis = np.array([[0,0,0], [0.5,0.5,0], [0.5,0,0.5], [0,0.5,0.5],\n",
    "                          [0.25,0.25,0.25], [0.75,0.75,0.25], \\\n",
    "                          [0.75,0.25,0.75], [0.25,0.75,0.75]])\n",
    "    else:\n",
    "        raise ValueError('Cell type not yet supported.')\n",
    "\n",
    "    # Convert planes to theta values (see equation above)\n",
    "    s_vals = np.array([np.linalg.norm(p) for p in planes])\n",
    "#     a += 1e-5 * T   # thermal expansion estimate; omit b/c a is alread indep var.\n",
    "    theta = np.arcsin(np.divide(wavelength/2, np.divide(a, s_vals)))\n",
    "    two_theta = 2 * np.degrees(theta)\n",
    "\n",
    "    # Scherrer equation calculations\n",
    "    beta = np.degrees(K * wavelength / thickness * np.divide(1, np.cos(theta)))\n",
    "    sigma = beta / 2.355  # proportionality for Gaussian distribution\n",
    "\n",
    "    # Structure-Temperature factor. Must... resist... for loops...\n",
    "    s = np.sin(theta) / (10*wavelength)\n",
    "    S = 2.210 * np.exp(-58.727*s**2) + 2.134 * np.exp(-13.553*s**2) + \\\n",
    "        1.689 * np.exp(-2.609*s**2) + 0.524 * np.exp(-0.339*s**2)\n",
    "    f = 28 - 41.78214 * np.multiply(s**2, S)  # formula from Ch. 12 of De Graef\n",
    "    F = np.multiply(f, np.sum(np.exp(2 * np.pi * 1j * \\\n",
    "                                     np.dot(np.array(planes), basis.T)), axis=1))\n",
    "\n",
    "    # Multiplicity factor\n",
    "    mult = [2**np.count_nonzero(p) * \\\n",
    "            len(set(itertools.permutations(p))) for p in planes]\n",
    "\n",
    "    # Lorentz-Polarization factor\n",
    "    Lp = np.divide(1 + np.cos(2 * theta)**2, \n",
    "                   np.multiply(np.sin(theta)**2, np.cos(theta)))\n",
    "\n",
    "    # Final intensity\n",
    "    I = np.multiply(np.absolute(F)**2, np.multiply(mult, Lp))\n",
    "    \n",
    "    # Plotting\n",
    "    plt.rcParams.update({'figure.figsize':(10,5), 'font.size':22, 'axes.linewidth':2,\n",
    "                         'mathtext.fontset':'cm'})\n",
    "    xmin, xmax = (20, 160)\n",
    "    x = np.linspace(xmin, xmax, int(10*(xmax-xmin)))\n",
    "    fig, ax = plt.subplots()\n",
    "    \n",
    "    # Thermal effects. These functional dependencies ARE NOT REAL!!!\n",
    "    thermal_diffuse = 3e1 * T * np.cbrt(x)   # background signal\n",
    "    sigma += (T + 5) / 2000    # peak broadening from vibrations\n",
    "    \n",
    "    # Save all the curves, then take a max envelope\n",
    "    all_curves = []\n",
    "    for i in range(len(sigma)):\n",
    "        y = stats.norm.pdf(x, two_theta[i], sigma[i])\n",
    "        normed_curve = y / max(y) * I[i]\n",
    "        # Don't include the curves that aren't selected by the Structure factor\n",
    "        if max(normed_curve) > 1e1:\n",
    "            max_ind = normed_curve.argmax()\n",
    "            ax.annotate(s=planes_str[i], \\\n",
    "                        xy=(x[max_ind], normed_curve[max_ind] + thermal_diffuse[max_ind]))\n",
    "            all_curves.append(normed_curve)\n",
    "    final_curve = np.max(all_curves, axis=0) + thermal_diffuse\n",
    "    plt.plot(x, final_curve, c='C0', lw=4, alpha=0.7)\n",
    "\n",
    "    # Some fine-tuned settings for visual appeal\n",
    "    for side in ['top', 'right']:\n",
    "        ax.spines[side].set_visible(False)\n",
    "    ax.set_xlim(xmin, xmax)\n",
    "    ax.set_ylim(0, 1.05 * ax.get_ylim()[1])\n",
    "    ax.tick_params(left=False, labelleft=False, direction='in', length=10, width=2)\n",
    "    ax.set_xlabel(r'$2\\theta$ (degree)')\n",
    "    ax.set_ylabel('Intensity (a.u.)')\n",
    "    plt.show()"
   ]
  },
  {
   "cell_type": "markdown",
   "metadata": {},
   "source": [
    "Now we create each slider individually for readability and customization."
   ]
  },
  {
   "cell_type": "code",
   "execution_count": null,
   "metadata": {},
   "outputs": [],
   "source": [
    "b1 = Button(description='A button', layout=Layout(width='400px', height='30px'))\n",
    "b2 = Button(description='A button', layout=Layout(width='400px', height='60px'))\n",
    "\n",
    "a_widget = FloatSlider(value=0.352, min=0.31, max=0.4, step=0.001, \n",
    "                       description='Lattice constant (nm)', readout_format='.3f', \n",
    "                       style={'description_width':'150px'}, layout=b1.layout)\n",
    "\n",
    "w_widget = FloatSlider(value=0.154, min=0.13, max=0.16, step=0.001, \n",
    "                       description='X-ray wavelength (nm)', readout_format='.3f', \n",
    "                       style={'description_width':'150px'}, layout=b1.layout)\n",
    "\n",
    "c_widget = RadioButtons(options=['FCC', 'BCC', 'DC'], description='Crystal structure',\n",
    "                        style={'description_width':'150px'}, layout=b2.layout)\n",
    "\n",
    "t_widget = FloatLogSlider(value=10, base=10, min=0, max=3, step=0.1, \n",
    "                          description='Crystallite thickness (nm)',  readout_format='d', \n",
    "                          style={'description_width':'150px'}, layout=b1.layout)\n",
    "\n",
    "T_widget = IntSlider(value=298, min=0, max=1000, step=1, \n",
    "                     description='Temperature (K)', readout_format='d', \n",
    "                     style={'description_width':'150px'}, layout=b1.layout)"
   ]
  },
  {
   "cell_type": "markdown",
   "metadata": {},
   "source": [
    "After you have set your parameters, click **Generate Plot** to see the resulting XRD spectra."
   ]
  },
  {
   "cell_type": "code",
   "execution_count": null,
   "metadata": {
    "scrolled": false
   },
   "outputs": [],
   "source": [
    "interact_manual.opts['manual_name'] = 'Generate Plot'\n",
    "interact_manual(plot_XRD, a=a_widget, wavelength=w_widget, cell_type=c_widget, \n",
    "                          thickness=t_widget, T=T_widget, K=fixed(0.94));"
   ]
  },
  {
   "cell_type": "markdown",
   "metadata": {},
   "source": [
    "--------------------------------------\n",
    "\n",
    "## Discussion questions\n",
    "\n",
    "* Can you rationalize all the trends you see? \n",
    "* Describe all the ways **temperature** affects the XRD spectra.\n",
    "* How do we account for **strain** in our model? What differences might we observe between isotropic and anisotropic strain?\n",
    "* If you're interested in scientific computing, try to understand how the structure factor ($F$) is calculated with clever [NumPy](https://numpy.org/) tools."
   ]
  },
  {
   "cell_type": "markdown",
   "metadata": {},
   "source": [
    "--------------------------------------\n",
    "\n",
    "## Conclusion\n",
    "I hope you found this notebook helpful in learning more about XRD and what affects a powder XRD spectra. \n",
    "Please don't hesitate to reach out if you have any questions or ideas to contribute.\n",
    "\n",
    "## Acknowledgements\n",
    "\n",
    "I thank Laura Armstrong, Nathan Bieberdorf, Han-Ming Hau, and Divya Ramakrishnan for user testing and helpful suggestions. \n",
    "I also thank [Prof. Andrew Minor](https://mse.berkeley.edu/people_new/minor/) for teaching MATSCI 204: Materials Characterization and my advisor [Prof. Mark Asta](https://mse.berkeley.edu/people_new/asta/) for his unwavering encouragement for my education-related pursuits. \n",
    "Interactivity is enabled with the [`ipywidgets`](https://ipywidgets.readthedocs.io/en/stable/) library. \n",
    "This project is generously hosted on [GitHub](https://github.com/enze-chen/learning_modules) and [Google Colaboratory](https://colab.research.google.com/github/enze-chen/learning_modules/blob/master/mse/XRD_trends.ipynb)."
   ]
  },
  {
   "cell_type": "markdown",
   "metadata": {},
   "source": [
    "----------------------------------------\n",
    "\n",
    "## Assumptions I've taken great liberties with\n",
    "\n",
    "* For the Structure factor, I greatly oversimplified the construction of the atomic scattering factor ($f$) and selected some numbers from the data for Ni.\n",
    "* I also combined part of the temperature factor into the structure factor. \n",
    "* I combined the Lorentz and polarization factors, as is commonly done in the literature.\n",
    "* I ignored the absorption factor since it is more or less independent of $\\theta$.\n",
    "* I used a $\\sqrt[3]{\\theta}$ term to approximate the thermal background's general shape. I don't know the true analytical dependence, if there even is one.\n",
    "* I used a Gaussian distribution to model each peak to capture crystallite size effects. Peaks in general are *not* Gaussian.\n",
    "\n",
    "## Known issues\n",
    "\n",
    "* It doesn't have great safeguards against numerical errors, such as invalid `arcsin` arguments and `NaN`. Please be gentle. ❤\n",
    "* There's a weird rendering error where for large intensities the upper limit (e.g. `1e6`) appears on the y-axis. **:shrug:**\n",
    "* I left out \"simple cubic\" as one of the candidate structures because it results in too many numerical instabilities to correct for. It's also a boring spectra."
   ]
  }
 ],
 "metadata": {
  "kernelspec": {
   "display_name": "Python 3",
   "language": "python",
   "name": "python3"
  },
  "language_info": {
   "codemirror_mode": {
    "name": "ipython",
    "version": 3
   },
   "file_extension": ".py",
   "mimetype": "text/x-python",
   "name": "python",
   "nbconvert_exporter": "python",
   "pygments_lexer": "ipython3",
   "version": "3.7.3"
  }
 },
 "nbformat": 4,
 "nbformat_minor": 4
}
