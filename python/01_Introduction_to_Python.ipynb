{
 "cells": [
  {
   "cell_type": "markdown",
   "metadata": {},
   "source": [
    "# Welcome to Python and Jupyter!\n",
    "\n",
    "*Authors: Enze Chen (University of California, Berkeley)*\n",
    "\n"
   ]
  },
  {
   "cell_type": "markdown",
   "metadata": {},
   "source": [
    "# Test Jupyter notebook\n",
    "\n",
    "This is a Markdown cell that renders text according to [Markdown syntax](https://www.markdownguide.org/basic-syntax) ([here's a cheat sheet](https://github.com/adam-p/markdown-here/wiki/Markdown-Cheatsheet)).\n",
    "Double click any Markdown cell to edit it.\n",
    "Press `Shift+Enter` to save/render it again.\n",
    "\n",
    "It's been enhanced to handle $\\LaTeX$.\n",
    "\n",
    "```python\n",
    "# And Python code\n",
    "```\n",
    "\n",
    "You can include images too:\n",
    "![Berkeley](https://brand.berkeley.edu/wp-content/uploads/2016/11/primarylogo.png)\n",
    "\n",
    "<font color='red'>You can also use HTML formatting, if you know that.</font>"
   ]
  },
  {
   "cell_type": "code",
   "execution_count": null,
   "metadata": {},
   "outputs": [],
   "source": [
    "# But the best part is that you can integrate code with the text in these Code cells\n",
    "# This is an in-line comment in Python\n",
    "import os    # normal import\n",
    "import numpy as np   # import library with abbreviation\n",
    "\n",
    "# Press Shift+Enter to run the code in the cell\n",
    "print(os.getcwd())"
   ]
  },
  {
   "cell_type": "code",
   "execution_count": null,
   "metadata": {},
   "outputs": [],
   "source": [
    "rng = np.random.rand()   # note how we use the NumPy library with its abbreviation"
   ]
  },
  {
   "cell_type": "markdown",
   "metadata": {},
   "source": [
    "You can use the menu bar functions to switch cells between \"Markdown\" and \"Code,\" and a lot of other things. Take some time to explore.\n",
    "\n",
    "The cool part about Jupyter notebook that makes it different from \"regular\" Python and more like MATLAB is the **persistence** of variables across cells. \n",
    "In other words, the `rng` variable defined above will be saved for future cells.\n",
    "Add a code cell below right below this one and type `rng` and run the cell."
   ]
  },
  {
   "cell_type": "markdown",
   "metadata": {},
   "source": [
    "## Conclusion\n",
    "\n",
    "Any output and formatting in this notebook will be preserved when you open the notebook again, but variables and memory will be **reset**.\n",
    "\n",
    "After you've closed the notebook, click \"Quit\" in the top right corner of the main interface to completely shut down the Jupyter notebook application.\n",
    "Each time you want to edit/run a notebook, you have to type `jupyter notebook` in your Terminal to boot up the interface. \n",
    "Then open the `.ipynb` file up from there.\n",
    "You cannot just double-click the `.ipynb` file on your computer!"
   ]
  }
 ],
 "metadata": {
  "kernelspec": {
   "display_name": "Python 3",
   "language": "python",
   "name": "python3"
  },
  "language_info": {
   "codemirror_mode": {
    "name": "ipython",
    "version": 3
   },
   "file_extension": ".py",
   "mimetype": "text/x-python",
   "name": "python",
   "nbconvert_exporter": "python",
   "pygments_lexer": "ipython3",
   "version": "3.7.3"
  }
 },
 "nbformat": 4,
 "nbformat_minor": 4
}
